{
 "cells": [
  {
   "cell_type": "code",
   "execution_count": 2,
   "metadata": {},
   "outputs": [],
   "source": [
    "import numpy as np\n",
    "best_match = np.ones((10,10))\n",
    "bett_match = best_match*100"
   ]
  },
  {
   "cell_type": "code",
   "execution_count": 3,
   "metadata": {},
   "outputs": [
    {
     "data": {
      "text/plain": [
       "array([[ 100.,  100.,  100.,  100.,  100.,  100.,  100.,  100.,  100.,\n",
       "         100.],\n",
       "       [ 100.,  100.,  100.,  100.,  100.,  100.,  100.,  100.,  100.,\n",
       "         100.],\n",
       "       [ 100.,  100.,  100.,  100.,  100.,  100.,  100.,  100.,  100.,\n",
       "         100.],\n",
       "       [ 100.,  100.,  100.,  100.,  100.,  100.,  100.,  100.,  100.,\n",
       "         100.],\n",
       "       [ 100.,  100.,  100.,  100.,  100.,  100.,  100.,  100.,  100.,\n",
       "         100.],\n",
       "       [ 100.,  100.,  100.,  100.,  100.,  100.,  100.,  100.,  100.,\n",
       "         100.],\n",
       "       [ 100.,  100.,  100.,  100.,  100.,  100.,  100.,  100.,  100.,\n",
       "         100.],\n",
       "       [ 100.,  100.,  100.,  100.,  100.,  100.,  100.,  100.,  100.,\n",
       "         100.],\n",
       "       [ 100.,  100.,  100.,  100.,  100.,  100.,  100.,  100.,  100.,\n",
       "         100.],\n",
       "       [ 100.,  100.,  100.,  100.,  100.,  100.,  100.,  100.,  100.,\n",
       "         100.]])"
      ]
     },
     "execution_count": 3,
     "metadata": {},
     "output_type": "execute_result"
    }
   ],
   "source": [
    "bett_match"
   ]
  },
  {
   "cell_type": "code",
   "execution_count": null,
   "metadata": {
    "collapsed": true
   },
   "outputs": [],
   "source": []
  },
  {
   "cell_type": "code",
   "execution_count": null,
   "metadata": {
    "collapsed": true
   },
   "outputs": [],
   "source": []
  },
  {
   "cell_type": "code",
   "execution_count": null,
   "metadata": {
    "collapsed": true
   },
   "outputs": [],
   "source": []
  }
 ],
 "metadata": {
  "kernelspec": {
   "display_name": "Python 2",
   "language": "python",
   "name": "python2"
  },
  "language_info": {
   "codemirror_mode": {
    "name": "ipython",
    "version": 2
   },
   "file_extension": ".py",
   "mimetype": "text/x-python",
   "name": "python",
   "nbconvert_exporter": "python",
   "pygments_lexer": "ipython2",
   "version": "2.7.13"
  }
 },
 "nbformat": 4,
 "nbformat_minor": 2
}
